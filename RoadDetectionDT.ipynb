{
 "cells": [
  {
   "cell_type": "markdown",
   "metadata": {},
   "source": [
    "Import necessary libraries"
   ]
  },
  {
   "cell_type": "code",
   "execution_count": 1,
   "metadata": {},
   "outputs": [],
   "source": [
    "import pandas as pd\n",
    "import numpy as np\n",
    "from PIL import Image\n",
    "\n",
    "from sklearn import tree\n",
    "from sklearn.tree import DecisionTreeClassifier, export_graphviz\n",
    "from sklearn.model_selection import train_test_split\n",
    "from matplotlib import pyplot as plt\n",
    "import seaborn as sns\n",
    "\n",
    "import graphviz\n",
    "import pydotplus\n",
    "import io\n",
    "from scipy import misc\n",
    "\n",
    "%matplotlib inline\n"
   ]
  },
  {
   "cell_type": "markdown",
   "metadata": {},
   "source": [
    "Creat load_images and test it"
   ]
  },
  {
   "cell_type": "code",
   "execution_count": 2,
   "metadata": {},
   "outputs": [
    {
     "name": "stdout",
     "output_type": "stream",
     "text": [
      "Dimensions:  (64, 80)\n"
     ]
    },
    {
     "data": {
      "image/png": "[encoded data removed]",
      "text/plain": [
       "<Figure size 432x288 with 1 Axes>"
      ]
     },
     "metadata": {
      "needs_background": "light"
     },
     "output_type": "display_data"
    }
   ],
   "source": [
    "# Load and resize image\n",
    "def load_image(filepath: str) -> np.ndarray:\n",
    "    im: Image.Image = Image.open(filepath)\n",
    "    (width, height) = (im.width // 4, im.height // 4)\n",
    "    im_resized = im.resize((width, height))\n",
    "    return np.array(im_resized)\n",
    "\n",
    "im = load_image('img1737_m.png')\n",
    "print('Dimensions: ', im.shape)\n",
    "plt.imshow(im)\n",
    "plt.show()"
   ]
  },
  {
   "cell_type": "markdown",
   "metadata": {},
   "source": [
    "Creat an array that has all the maps"
   ]
  },
  {
   "cell_type": "code",
   "execution_count": 3,
   "metadata": {},
   "outputs": [
    {
     "name": "stderr",
     "output_type": "stream",
     "text": [
      "100%|██████████| 3601/3601 [00:02<00:00, 1324.01it/s]\n"
     ]
    }
   ],
   "source": [
    "import glob\n",
    "from tqdm import tqdm\n",
    "image_names = glob.glob('img*.png')\n",
    "image_mats = []\n",
    "\n",
    "\n",
    "for image in tqdm(image_names):\n",
    "    im = load_image(image)\n",
    "    image_mats.append(im)\n",
    "\n"
   ]
  },
  {
   "cell_type": "code",
   "execution_count": 4,
   "metadata": {},
   "outputs": [],
   "source": [
    "image_array = np.array(image_mats)\n",
    "image_array_flat = np.zeros((3601,64*80))"
   ]
  },
  {
   "cell_type": "code",
   "execution_count": 5,
   "metadata": {},
   "outputs": [],
   "source": [
    "bucket_array = image_array[0].reshape(-1,1)\n",
    "image_array_flat[0] = bucket_array.T\n",
    "\n",
    "for i in range(3601):\n",
    "    bucket_array = image_array[i].reshape(-1,1)\n",
    "    image_array_flat[i] = bucket_array.T\n",
    "    \n",
    " "
   ]
  },
  {
   "cell_type": "code",
   "execution_count": 6,
   "metadata": {},
   "outputs": [
    {
     "data": {
      "text/plain": [
       "(3601, 64, 80)"
      ]
     },
     "execution_count": 6,
     "metadata": {},
     "output_type": "execute_result"
    }
   ],
   "source": [
    "image_array.shape"
   ]
  },
  {
   "cell_type": "code",
   "execution_count": 7,
   "metadata": {},
   "outputs": [],
   "source": [
    "from numpy import genfromtxt\n",
    "labels = genfromtxt('turn_labels2.csv', delimiter=',')"
   ]
  },
  {
   "cell_type": "code",
   "execution_count": 8,
   "metadata": {},
   "outputs": [],
   "source": [
    "labels = labels.reshape((-1,1))"
   ]
  },
  {
   "cell_type": "markdown",
   "metadata": {},
   "source": [
    "Create the decision tree"
   ]
  },
  {
   "cell_type": "code",
   "execution_count": 9,
   "metadata": {},
   "outputs": [],
   "source": [
    "c = DecisionTreeClassifier(min_samples_split = 30)\n"
   ]
  },
  {
   "cell_type": "code",
   "execution_count": 10,
   "metadata": {},
   "outputs": [],
   "source": [
    "train, test = train_test_split(image_array_flat, test_size = 0.15)"
   ]
  },
  {
   "cell_type": "code",
   "execution_count": 11,
   "metadata": {},
   "outputs": [],
   "source": [
    "ltrain, ltest = train_test_split(labels, test_size = 0.15)"
   ]
  },
  {
   "cell_type": "code",
   "execution_count": 12,
   "metadata": {},
   "outputs": [],
   "source": [
    "dt = c.fit(train, ltrain)"
   ]
  },
  {
   "cell_type": "code",
   "execution_count": 13,
   "metadata": {},
   "outputs": [],
   "source": [
    "def show_tree(tree, features, path):\n",
    "    f = io.StringIO()\n",
    "    export_graphviz(tree, out_file = f, feature_names  = features)\n",
    "    pydotplus.graph_from_dot_data(f.getvalue()).write_png(path)\n",
    "    img = plt.imread(path)\n",
    "    plt.rcParams[\"figure.figsize\"] = (20,20)\n",
    "    plt.imshow(img)\n",
    "    "
   ]
  },
  {
   "cell_type": "code",
   "execution_count": 14,
   "metadata": {},
   "outputs": [],
   "source": [
    "lpred = c.predict(test)"
   ]
  },
  {
   "cell_type": "code",
   "execution_count": 15,
   "metadata": {},
   "outputs": [
    {
     "data": {
      "text/plain": [
       "array([-1.,  1.,  0.,  0., -1., -1., -1.,  0.,  1.,  0., -1., -1., -1.,\n",
       "        0.,  0.,  0., -1.,  0.,  0., -1.,  0.,  0., -1., -1.,  0.,  0.,\n",
       "       -1.,  1.,  0.,  0.,  0.,  1.,  0., -1.,  0.,  0.,  0., -1.,  1.,\n",
       "       -1.,  0.,  0., -1., -1.,  0., -1.,  0., -1., -1.,  1.,  0.,  1.,\n",
       "       -1.,  0.,  0.,  0., -1.,  0., -1., -1.,  1.,  0., -1., -1.,  0.,\n",
       "       -1., -1., -1.,  0., -1., -1.,  1.,  0.,  0.,  1., -1.,  0.,  0.,\n",
       "       -1.,  0., -1.,  1.,  0.,  0., -1., -1.,  0., -1.,  0.,  0.,  0.,\n",
       "        0.,  1.,  0., -1.,  0., -1., -1.,  0.,  1., -1., -1., -1., -1.,\n",
       "        0., -1.,  0., -1.,  1.,  0., -1., -1., -1.,  0.,  1., -1., -1.,\n",
       "        0.,  1.,  1.,  1.,  1.,  0.,  0., -1., -1.,  0.,  0.,  0.,  1.,\n",
       "       -1.,  0.,  1.,  0.,  1., -1., -1., -1., -1.,  0.,  0., -1.,  0.,\n",
       "        0.,  0.,  0., -1., -1.,  0.,  0.,  0., -1.,  0., -1.,  0., -1.,\n",
       "        0.,  1.,  1.,  0.,  0., -1., -1.,  0., -1.,  0., -1.,  0., -1.,\n",
       "        0.,  1., -1., -1., -1., -1., -1.,  1., -1.,  0.,  1., -1., -1.,\n",
       "       -1., -1., -1.,  1.,  1.,  0., -1.,  0.,  1., -1.,  0.,  0.,  0.,\n",
       "       -1.,  0.,  1.,  1.,  1.,  1.,  1., -1.,  0.,  0., -1.,  0.,  0.,\n",
       "       -1.,  1., -1.,  0.,  0.,  0.,  1.,  1., -1.,  0.,  1.,  0.,  0.,\n",
       "       -1.,  0., -1.,  0., -1.,  0., -1.,  1., -1., -1., -1., -1.,  1.,\n",
       "        1.,  1.,  0., -1.,  0.,  0.,  0., -1.,  1.,  0., -1.,  0., -1.,\n",
       "        0.,  0.,  0., -1., -1.,  0.,  0.,  0.,  0., -1., -1.,  0.,  0.,\n",
       "       -1., -1.,  0., -1., -1.,  1.,  1., -1., -1.,  1.,  0.,  0., -1.,\n",
       "       -1.,  1., -1.,  0., -1., -1.,  0., -1.,  1.,  0.,  0.,  0., -1.,\n",
       "       -1.,  0., -1.,  0.,  1., -1.,  1., -1., -1.,  0.,  0.,  0.,  0.,\n",
       "        0.,  0., -1., -1., -1., -1., -1., -1., -1., -1.,  0.,  0., -1.,\n",
       "       -1.,  0., -1.,  0.,  0., -1., -1., -1., -1.,  0.,  0.,  0., -1.,\n",
       "       -1.,  1.,  1.,  1.,  0., -1.,  0.,  0., -1.,  0.,  0.,  0.,  1.,\n",
       "        0., -1.,  1., -1., -1.,  0., -1.,  1.,  0., -1., -1.,  0.,  0.,\n",
       "        1.,  0., -1., -1., -1.,  0.,  0., -1.,  1.,  0.,  0., -1.,  0.,\n",
       "       -1., -1.,  1., -1.,  0.,  1.,  0., -1.,  0., -1., -1., -1.,  0.,\n",
       "       -1., -1., -1., -1.,  0., -1.,  0., -1., -1.,  1., -1., -1., -1.,\n",
       "       -1.,  0., -1.,  0.,  1., -1., -1.,  0.,  0.,  0.,  0., -1.,  0.,\n",
       "        1., -1.,  1.,  1.,  0., -1.,  0.,  0., -1.,  0.,  0.,  0.,  0.,\n",
       "        1.,  1.,  0.,  1.,  0., -1.,  1., -1., -1., -1.,  0.,  0.,  0.,\n",
       "       -1.,  1.,  0., -1., -1.,  0.,  1., -1., -1.,  0., -1.,  1., -1.,\n",
       "        0.,  0.,  1.,  0.,  0.,  1.,  0., -1.,  0., -1., -1., -1.,  0.,\n",
       "       -1., -1., -1.,  0., -1.,  1.,  0.,  0.,  0., -1., -1.,  0., -1.,\n",
       "        1.,  1.,  0., -1., -1., -1., -1., -1.,  1.,  0., -1.,  1.,  0.,\n",
       "       -1., -1., -1.,  1., -1., -1., -1.,  0., -1., -1., -1.,  1., -1.,\n",
       "       -1.,  0., -1.,  0., -1.,  1., -1., -1., -1.,  1.,  0.,  1.,  1.,\n",
       "       -1.,  0.,  1.,  0.,  0., -1.,  0.,  0., -1., -1., -1., -1.,  0.,\n",
       "        0.,  1.,  1.,  1.,  0.,  0., -1., -1.,  0., -1., -1.,  0., -1.,\n",
       "        1., -1., -1., -1., -1.,  1.,  0., -1.])"
      ]
     },
     "execution_count": 15,
     "metadata": {},
     "output_type": "execute_result"
    }
   ],
   "source": [
    "lpred"
   ]
  },
  {
   "cell_type": "code",
   "execution_count": 16,
   "metadata": {},
   "outputs": [],
   "source": [
    "from sklearn.metrics import accuracy_score\n",
    "\n",
    "score = accuracy_score(ltest, lpred)*100"
   ]
  },
  {
   "cell_type": "raw",
   "metadata": {},
   "source": [
    "score"
   ]
  },
  {
   "cell_type": "code",
   "execution_count": 17,
   "metadata": {},
   "outputs": [
    {
     "data": {
      "text/plain": [
       "array([-1.,  1.,  0.,  0., -1., -1., -1.,  0.,  1.,  0., -1., -1., -1.,\n",
       "        0.,  0.,  0., -1.,  0.,  0., -1.,  0.,  0., -1., -1.,  0.,  0.,\n",
       "       -1.,  1.,  0.,  0.,  0.,  1.,  0., -1.,  0.,  0.,  0., -1.,  1.,\n",
       "       -1.,  0.,  0., -1., -1.,  0., -1.,  0., -1., -1.,  1.,  0.,  1.,\n",
       "       -1.,  0.,  0.,  0., -1.,  0., -1., -1.,  1.,  0., -1., -1.,  0.,\n",
       "       -1., -1., -1.,  0., -1., -1.,  1.,  0.,  0.,  1., -1.,  0.,  0.,\n",
       "       -1.,  0., -1.,  1.,  0.,  0., -1., -1.,  0., -1.,  0.,  0.,  0.,\n",
       "        0.,  1.,  0., -1.,  0., -1., -1.,  0.,  1., -1., -1., -1., -1.,\n",
       "        0., -1.,  0., -1.,  1.,  0., -1., -1., -1.,  0.,  1., -1., -1.,\n",
       "        0.,  1.,  1.,  1.,  1.,  0.,  0., -1., -1.,  0.,  0.,  0.,  1.,\n",
       "       -1.,  0.,  1.,  0.,  1., -1., -1., -1., -1.,  0.,  0., -1.,  0.,\n",
       "        0.,  0.,  0., -1., -1.,  0.,  0.,  0., -1.,  0., -1.,  0., -1.,\n",
       "        0.,  1.,  1.,  0.,  0., -1., -1.,  0., -1.,  0., -1.,  0., -1.,\n",
       "        0.,  1., -1., -1., -1., -1., -1.,  1., -1.,  0.,  1., -1., -1.,\n",
       "       -1., -1., -1.,  1.,  1.,  0., -1.,  0.,  1., -1.,  0.,  0.,  0.,\n",
       "       -1.,  0.,  1.,  1.,  1.,  1.,  1., -1.,  0.,  0., -1.,  0.,  0.,\n",
       "       -1.,  1., -1.,  0.,  0.,  0.,  1.,  1., -1.,  0.,  1.,  0.,  0.,\n",
       "       -1.,  0., -1.,  0., -1.,  0., -1.,  1., -1., -1., -1., -1.,  1.,\n",
       "        1.,  1.,  0., -1.,  0.,  0.,  0., -1.,  1.,  0., -1.,  0., -1.,\n",
       "        0.,  0.,  0., -1., -1.,  0.,  0.,  0.,  0., -1., -1.,  0.,  0.,\n",
       "       -1., -1.,  0., -1., -1.,  1.,  1., -1., -1.,  1.,  0.,  0., -1.,\n",
       "       -1.,  1., -1.,  0., -1., -1.,  0., -1.,  1.,  0.,  0.,  0., -1.,\n",
       "       -1.,  0., -1.,  0.,  1., -1.,  1., -1., -1.,  0.,  0.,  0.,  0.,\n",
       "        0.,  0., -1., -1., -1., -1., -1., -1., -1., -1.,  0.,  0., -1.,\n",
       "       -1.,  0., -1.,  0.,  0., -1., -1., -1., -1.,  0.,  0.,  0., -1.,\n",
       "       -1.,  1.,  1.,  1.,  0., -1.,  0.,  0., -1.,  0.,  0.,  0.,  1.,\n",
       "        0., -1.,  1., -1., -1.,  0., -1.,  1.,  0., -1., -1.,  0.,  0.,\n",
       "        1.,  0., -1., -1., -1.,  0.,  0., -1.,  1.,  0.,  0., -1.,  0.,\n",
       "       -1., -1.,  1., -1.,  0.,  1.,  0., -1.,  0., -1., -1., -1.,  0.,\n",
       "       -1., -1., -1., -1.,  0., -1.,  0., -1., -1.,  1., -1., -1., -1.,\n",
       "       -1.,  0., -1.,  0.,  1., -1., -1.,  0.,  0.,  0.,  0., -1.,  0.,\n",
       "        1., -1.,  1.,  1.,  0., -1.,  0.,  0., -1.,  0.,  0.,  0.,  0.,\n",
       "        1.,  1.,  0.,  1.,  0., -1.,  1., -1., -1., -1.,  0.,  0.,  0.,\n",
       "       -1.,  1.,  0., -1., -1.,  0.,  1., -1., -1.,  0., -1.,  1., -1.,\n",
       "        0.,  0.,  1.,  0.,  0.,  1.,  0., -1.,  0., -1., -1., -1.,  0.,\n",
       "       -1., -1., -1.,  0., -1.,  1.,  0.,  0.,  0., -1., -1.,  0., -1.,\n",
       "        1.,  1.,  0., -1., -1., -1., -1., -1.,  1.,  0., -1.,  1.,  0.,\n",
       "       -1., -1., -1.,  1., -1., -1., -1.,  0., -1., -1., -1.,  1., -1.,\n",
       "       -1.,  0., -1.,  0., -1.,  1., -1., -1., -1.,  1.,  0.,  1.,  1.,\n",
       "       -1.,  0.,  1.,  0.,  0., -1.,  0.,  0., -1., -1., -1., -1.,  0.,\n",
       "        0.,  1.,  1.,  1.,  0.,  0., -1., -1.,  0., -1., -1.,  0., -1.,\n",
       "        1., -1., -1., -1., -1.,  1.,  0., -1.])"
      ]
     },
     "execution_count": 17,
     "metadata": {},
     "output_type": "execute_result"
    }
   ],
   "source": [
    "lpred"
   ]
  },
  {
   "cell_type": "code",
   "execution_count": 18,
   "metadata": {},
   "outputs": [
    {
     "data": {
      "text/plain": [
       "(541,)"
      ]
     },
     "execution_count": 18,
     "metadata": {},
     "output_type": "execute_result"
    }
   ],
   "source": [
    "lpred.shape"
   ]
  },
  {
   "cell_type": "code",
   "execution_count": 19,
   "metadata": {},
   "outputs": [
    {
     "data": {
      "text/plain": [
       "(541, 5120)"
      ]
     },
     "execution_count": 19,
     "metadata": {},
     "output_type": "execute_result"
    }
   ],
   "source": [
    "test.shape"
   ]
  },
  {
   "cell_type": "code",
   "execution_count": 20,
   "metadata": {
    "scrolled": true
   },
   "outputs": [
    {
     "data": {
      "text/plain": [
       "(3060, 5120)"
      ]
     },
     "execution_count": 20,
     "metadata": {},
     "output_type": "execute_result"
    }
   ],
   "source": [
    "train.shape"
   ]
  },
  {
   "cell_type": "code",
   "execution_count": 21,
   "metadata": {},
   "outputs": [],
   "source": [
    "import matplotlib.pyplot as plt\n",
    "import copy\n",
    "#Select random images from the test test (we have 541 images)\n",
    "random_images = [3060+1, 3060+20, 3060 + 30, 3060+50, 3060 + 100, 3060 + 120, 3060 + 500, 3060 + 510]\n",
    "rnadom_predictions = [lpred[1], lpred[20], lpred[30], lpred[50], lpred[100], lpred[120], lpred[500], lpred[510]]"
   ]
  },
  {
   "cell_type": "code",
   "execution_count": 22,
   "metadata": {},
   "outputs": [
    {
     "data": {
      "text/plain": [
       "[3061, 3080, 3090, 3110, 3160, 3180, 3560, 3570]"
      ]
     },
     "execution_count": 22,
     "metadata": {},
     "output_type": "execute_result"
    }
   ],
   "source": [
    "random_images"
   ]
  },
  {
   "cell_type": "code",
   "execution_count": 23,
   "metadata": {},
   "outputs": [],
   "source": [
    "\n",
    "im_3061 = load_image('img3061_m.png')\n",
    "im_3080 = load_image('img3080_m.png')\n",
    "im_3090 = load_image('img3090_m.png')\n",
    "im_3110 = load_image('img3110_m.png')\n",
    "im_3160 = load_image('img3160_m.png')\n",
    "im_3180 = load_image('img3180_m.png')\n",
    "im_3560 = load_image('img3560_m.png')\n",
    "im_3570 = load_image('img3570_m.png')\n",
    "imags_mats = [im_3061 ,im_3080, im_3090, im_3110, im_3160, im_3180, im_3560, im_3570]"
   ]
  },
  {
   "cell_type": "code",
   "execution_count": 25,
   "metadata": {},
   "outputs": [
    {
     "data": {
      "image/png": "[encoded data removed]",
      "text/plain": [
       "<Figure size 720x1440 with 8 Axes>"
      ]
     },
     "metadata": {
      "needs_background": "light"
     },
     "output_type": "display_data"
    }
   ],
   "source": [
    "\n",
    "\n",
    "fig, ax = plt.subplots(8, 1)\n",
    "fig.set_figheight(20)\n",
    "fig.set_figwidth(10)\n",
    "for r in range(len(random_images)):\n",
    "    if rnadom_predictions[r]==0:\n",
    "        ax[r].set_title(\"Straight\")\n",
    "    elif rnadom_predictions[r]==1:\n",
    "        ax[r].set_title(\"Right\")\n",
    "    else: \n",
    "        ax[r].set_title(\"Left\")\n",
    "    ax[r].imshow(image_mats[r])\n",
    "    ax[r].axis('off')\n",
    "\n",
    "plt.tight_layout()\n",
    "plt.show()"
   ]
  },
  {
   "cell_type": "markdown",
   "metadata": {},
   "source": [
    "# Clearly, the decision tree is not a good classifer for image processing. A proposed solution is to conduct PCA analysis, to reduce the dimensionality for images. The overall score was between 37%-40% which indicates that this classifer is not suitable for this applications."
   ]
  },
  {
   "cell_type": "code",
   "execution_count": null,
   "metadata": {},
   "outputs": [],
   "source": []
  }
 ],
 "metadata": {
  "kernelspec": {
   "display_name": "Python 3",
   "language": "python",
   "name": "python3"
  },
  "language_info": {
   "codemirror_mode": {
    "name": "ipython",
    "version": 3
   },
   "file_extension": ".py",
   "mimetype": "text/x-python",
   "name": "python",
   "nbconvert_exporter": "python",
   "pygments_lexer": "ipython3",
   "version": "3.7.4"
  }
 },
 "nbformat": 4,
 "nbformat_minor": 2
}
